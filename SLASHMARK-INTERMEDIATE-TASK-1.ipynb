{
 "cells": [
  {
   "cell_type": "code",
   "execution_count": 4,
   "id": "a0867fcc",
   "metadata": {},
   "outputs": [
    {
     "name": "stdout",
     "output_type": "stream",
     "text": [
      "Hi! I'm JARVIS. How can I assist you today?\n",
      ">tell me a joke \n",
      "What do you call fake spaghetti? An impasta!\n",
      ">who created you?\n",
      "I was created by Utkarsh Rai. He is a Artificial Intelligence and Data Science Student\n",
      ">bye\n",
      "It was nice talking to you. Goodbye!\n",
      ">quit\n",
      "It was nice talking to you. Goodbye!\n"
     ]
    }
   ],
   "source": [
    "from nltk.chat.util import Chat, reflections\n",
    "\n",
    "# Define pairs of patterns and responses\n",
    "pairs = [\n",
    "    [\n",
    "        r\"hi|hello|hey\",\n",
    "        [\"Hello!\", \"Hi there!\", \"Hey!\",]\n",
    "    ],\n",
    "    [\n",
    "        r\"good morning\",\n",
    "        [\"Good morning! How can I assist you today?\",]\n",
    "    ],\n",
    "    [\n",
    "        r\"good afternoon\",\n",
    "        [\"Good afternoon! How can I assist you today?\",]\n",
    "    ],\n",
    "    [\n",
    "        r\"good evening\",\n",
    "        [\"Good evening! How can I assist you today?\",]\n",
    "    ],\n",
    "    [\n",
    "        r\"my name is (.*)\",\n",
    "        [\"Hello %1, how can I help you today?\",]\n",
    "    ],\n",
    "    [\n",
    "        r\"what is your name?\",\n",
    "        [\"My name is ChatBot and I'm here to assist you.\",]\n",
    "    ],\n",
    "    [\n",
    "        r\"how are you ?\",\n",
    "        [\"I'm doing good. How about you?\",]\n",
    "    ],\n",
    "    [\n",
    "        r\"what can you do for me\\?\",\n",
    "        [\"I can answer your queries, provide information, or just have a friendly chat. Feel free to ask anything!\",]\n",
    "    ],\n",
    "    [\n",
    "        r\"tell me a joke\",\n",
    "        [\"Why don't scientists trust atoms? Because they make up everything!\",\n",
    "         \"I told my wife she was drawing her eyebrows too high. She looked surprised!\",\n",
    "         \"Why was the math book sad? Because it had too many problems.\",\n",
    "         \"Why did the scarecrow win an award? Because he was outstanding in his field!\",\n",
    "         \"What do you call fake spaghetti? An impasta!\"]\n",
    "    ],\n",
    "    [\n",
    "        r\"who created you?\",\n",
    "        [\"I was created by Utkarsh Rai. He is a Artificial Intelligence and Data Science Student\",]\n",
    "    ],\n",
    "    [\n",
    "        r\"bye|quit\",\n",
    "        [\"Bye! Take care. See you soon :) \",\"It was nice talking to you. Goodbye!\"]\n",
    "    ],\n",
    "]\n",
    "\n",
    "# Create a chatbot with the pairs\n",
    "def chatbot():\n",
    "    print(\"Hi! I'm JARVIS. How can I assist you today?\")\n",
    "    chat = Chat(pairs, reflections)\n",
    "    chat.converse()\n",
    "\n",
    "# Run the chatbot\n",
    "if __name__ == \"__main__\":\n",
    "    chatbot()"
   ]
  },
  {
   "cell_type": "code",
   "execution_count": null,
   "id": "4b97e8c5",
   "metadata": {},
   "outputs": [],
   "source": []
  }
 ],
 "metadata": {
  "kernelspec": {
   "display_name": "Python 3 (ipykernel)",
   "language": "python",
   "name": "python3"
  },
  "language_info": {
   "codemirror_mode": {
    "name": "ipython",
    "version": 3
   },
   "file_extension": ".py",
   "mimetype": "text/x-python",
   "name": "python",
   "nbconvert_exporter": "python",
   "pygments_lexer": "ipython3",
   "version": "3.9.7"
  }
 },
 "nbformat": 4,
 "nbformat_minor": 5
}
